{
 "cells": [
  {
   "cell_type": "code",
   "execution_count": 13,
   "metadata": {},
   "outputs": [],
   "source": [
    "import ScraperModels\n",
    "import Analyser"
   ]
  },
  {
   "cell_type": "code",
   "execution_count": 14,
   "metadata": {},
   "outputs": [
    {
     "name": "stdout",
     "output_type": "stream",
     "text": [
      "The Onion | Ushering in a new, highly advanced era of creepy-crawly warfare, defense contractor Lockheed Martin announced Friday that it had developed... | Instagram\n",
      "February 28, 2025\n",
      "Lockheed Martin\n",
      "James Taiclet\n",
      "[\n",
      "  {\n",
      "    \"segments\": [\n",
      "      \"18K likes, 96 comments - theonion on \"\n",
      "    ],\n",
      "    \"fact\": [\n",
      "      -1\n",
      "    ]\n",
      "  },\n",
      "  {\n",
      "    \"segments\": [\n",
      "      \"February 28, 2025\"\n",
      "    ],\n",
      "    \"fact\": [\n",
      "      0\n",
      "    ]\n",
      "  },\n",
      "  {\n",
      "    \"segments\": [\n",
      "      \": \\\"Ushering in a new, highly advanced era of creepy-crawly warfare, defense contractor \"\n",
      "    ],\n",
      "    \"fact\": [\n",
      "      -1\n",
      "    ]\n",
      "  },\n",
      "  {\n",
      "    \"segments\": [\n",
      "      \"Lockheed Martin\"\n",
      "    ],\n",
      "    \"fact\": [\n",
      "      1\n",
      "    ]\n",
      "  },\n",
      "  {\n",
      "    \"segments\": [\n",
      "      \" announced Friday that it had developed a giant tactical rubber spider. “With the introduction of this state-of-the-art rubber spider and its highly realistic, blood-curdling fangs, the face of combat has changed forever,” said CEO \"\n",
      "    ],\n",
      "    \"fact\": [\n",
      "      -1\n",
      "    ]\n",
      "  },\n",
      "  {\n",
      "    \"segments\": [\n",
      "      \"James Taiclet\"\n",
      "    ],\n",
      "    \"fact\": [\n",
      "      2\n",
      "    ]\n",
      "  },\n",
      "  {\n",
      "    \"segments\": [\n",
      "      \", explaining that the long-range, 250-foot-tall precision latex arachnid could be deployed anywhere in the world to scare the living daylights out of anyone in a 3,000-mile radius.\\\"\"\n",
      "    ],\n",
      "    \"fact\": [\n",
      "      -1\n",
      "    ]\n",
      "  }\n",
      "]\n",
      "['{text: \"18K likes, 96 comments - theonion on \", isFactual: false, fact: false, explanation: \"Incorrect. Its refuted by the following<br></br><a href=https://vertexaisearch.cloud.google.com/grounding-api-redirect/AQXblrw97cTxqhf6kr6OYel8o21d9FZybVsOVlsb9eL5Io_MSdTUcyFlgMRT3Q06F8p6yDw2j-7UYnhYzmJaGpdr6fHfxvYjAvybjrqjW-DPCkJDeY-d5knAxXJjOS-Hk8PhCFXuZuEB3qU= target=\\'_blank\\'>wikipedia.org</a><br></br><a href=https://vertexaisearch.cloud.google.com/grounding-api-redirect/AQXblrwjE-f3YO5tfVErnGfuUpkBJVzYDeVv5HeGQ0knr9EFXvdfm6RuxQTnv9dAfkf-G-YpKqNPKPcIKc0fjiIcTZ7OxUStFM7rF1p_nckcengzcs2dnvl-htvlPEZesYtvpbb7r0d3jS9AxzpqzJJge0C60PivM1OIfw-RLFm4n1fVK201jp0VL6VRwaiKZ6hb0r5SbaA= target=\\'_blank\\'>lockheedmartin.com</a><br></br><a href=https://vertexaisearch.cloud.google.com/grounding-api-redirect/AQXblryGu2iomE9BLvCTc6MgRj5j3uMJmRWYEkgejqB5gkV4UGO8Gc1ipYtSEls5mf0RqOmWJTFJCCu6gyq-T-_sxLPVujJtbdJD_UGSNPt53I8bjLLCDLWvs4QuP4zWzZTzn6M9Qg== target=\\'_blank\\'>cfr.org</a><br></br><a href=https://vertexaisearch.cloud.google.com/grounding-api-redirect/AQXblryETlIo7o3iDpx2eu86--NRBWFbPQKP9kQsszYv-rFD8M1nmiK0T7GalHXwbOkbA_KozDGKl45fmtTZ3_d1MGMhj75jc3lCGQpHe8DKypLIANlCGsxJe4e9-Db_BYJfJN7Rc-94q3le-C-g-sK3zWZnJNBXYagy4VigTCe3WN5VW8CXzm8LI_Z8UnTvXZgqNpw-vLleg7LwmNERJnaZQ2NsD1GWWI8KetfMO9LuDuNo-tMn7nJVyC7qvp-NmYwqkaAE-ccuAlEqrw06-m2AbvXc7DbjFbhOlP1adxemfnEexdmubIOSW2dKtLLhZmeSrpbmZfuC8VsSFhb4K5EQz_pZU4tGZ27DJ4kAAOQ4nAYNVOUG0BBGPn5_XbkKW4xomQ== target=\\'_blank\\'>jeccomposites.com</a><br></br><a href=https://vertexaisearch.cloud.google.com/grounding-api-redirect/AQXblryRG206z8-QJfvsFIE_pnu0aMU6Y9TkHLhR2lSfeyJJ-VMy7CRMyJvQtGWH5uM4p2G7DGK-kK8FKp8o9PF5iUtmTxj_BMlutHyDt1xA-E0AUyZeQKa1V5U2IpfoShCetSOpvgsOszmfE6_Nph-NzAhOX4152K9vSJApN9Rd17SWifqlejMbcNYyDYVeDpdU0ZQeBQZ0HpsKGsNfuZWn7GPYmDCGDw4o-p6XKtR8ipxWtiZr8HqhKCs= target=\\'_blank\\'>lockheedmartin.com</a>\"}', '{text: \"February 28, 2025\", isFactual: true, fact: true, explanation: \"Correct. Its backed up by the following: <br></br><a href=https://vertexaisearch.cloud.google.com/grounding-api-redirect/AQXblryCULHosl9FrxdVPeBxCwAKhcQRpGCeKRud2MntaNTorSGMDPvTemweLm5gH1CoF8wn3MeYGw1IOryIT0PeDyGIo0K0FiazxEuzcjlZ42BXYC7kqqrcx5yjfgzwOswskrfoKAe8OI1zGf4UF7CaSV3GUt81 target=\\'_blank\\'>calendar-365.com</a><br></br><a href=https://vertexaisearch.cloud.google.com/grounding-api-redirect/AQXblrw2jTlzHT4jC_18j1wun_y2LCmHS1xgAluO4Y9N3qI0UIuSjmoC95xm1y_EuJTHCcovwSm-QCePtXVYLtIVQmzRH7H5EK3ajHfVUyDwdfgy23UyXMxc2O0ebHrMNSAeRX0nK41pDqjuIkRAebDpYqpkvLyMVo1Hkoh0RAeVbbCnTS2FqNdJ-2Bk target=\\'_blank\\'>pbs.org</a>\"}', '{text: \": \"Ushering in a new, highly advanced era of creepy-crawly warfare, defense contractor \", isFactual: false, fact: false, explanation: \"Incorrect. Its refuted by the following<br></br><a href=https://vertexaisearch.cloud.google.com/grounding-api-redirect/AQXblrw97cTxqhf6kr6OYel8o21d9FZybVsOVlsb9eL5Io_MSdTUcyFlgMRT3Q06F8p6yDw2j-7UYnhYzmJaGpdr6fHfxvYjAvybjrqjW-DPCkJDeY-d5knAxXJjOS-Hk8PhCFXuZuEB3qU= target=\\'_blank\\'>wikipedia.org</a><br></br><a href=https://vertexaisearch.cloud.google.com/grounding-api-redirect/AQXblrwjE-f3YO5tfVErnGfuUpkBJVzYDeVv5HeGQ0knr9EFXvdfm6RuxQTnv9dAfkf-G-YpKqNPKPcIKc0fjiIcTZ7OxUStFM7rF1p_nckcengzcs2dnvl-htvlPEZesYtvpbb7r0d3jS9AxzpqzJJge0C60PivM1OIfw-RLFm4n1fVK201jp0VL6VRwaiKZ6hb0r5SbaA= target=\\'_blank\\'>lockheedmartin.com</a><br></br><a href=https://vertexaisearch.cloud.google.com/grounding-api-redirect/AQXblryGu2iomE9BLvCTc6MgRj5j3uMJmRWYEkgejqB5gkV4UGO8Gc1ipYtSEls5mf0RqOmWJTFJCCu6gyq-T-_sxLPVujJtbdJD_UGSNPt53I8bjLLCDLWvs4QuP4zWzZTzn6M9Qg== target=\\'_blank\\'>cfr.org</a><br></br><a href=https://vertexaisearch.cloud.google.com/grounding-api-redirect/AQXblryETlIo7o3iDpx2eu86--NRBWFbPQKP9kQsszYv-rFD8M1nmiK0T7GalHXwbOkbA_KozDGKl45fmtTZ3_d1MGMhj75jc3lCGQpHe8DKypLIANlCGsxJe4e9-Db_BYJfJN7Rc-94q3le-C-g-sK3zWZnJNBXYagy4VigTCe3WN5VW8CXzm8LI_Z8UnTvXZgqNpw-vLleg7LwmNERJnaZQ2NsD1GWWI8KetfMO9LuDuNo-tMn7nJVyC7qvp-NmYwqkaAE-ccuAlEqrw06-m2AbvXc7DbjFbhOlP1adxemfnEexdmubIOSW2dKtLLhZmeSrpbmZfuC8VsSFhb4K5EQz_pZU4tGZ27DJ4kAAOQ4nAYNVOUG0BBGPn5_XbkKW4xomQ== target=\\'_blank\\'>jeccomposites.com</a><br></br><a href=https://vertexaisearch.cloud.google.com/grounding-api-redirect/AQXblryRG206z8-QJfvsFIE_pnu0aMU6Y9TkHLhR2lSfeyJJ-VMy7CRMyJvQtGWH5uM4p2G7DGK-kK8FKp8o9PF5iUtmTxj_BMlutHyDt1xA-E0AUyZeQKa1V5U2IpfoShCetSOpvgsOszmfE6_Nph-NzAhOX4152K9vSJApN9Rd17SWifqlejMbcNYyDYVeDpdU0ZQeBQZ0HpsKGsNfuZWn7GPYmDCGDw4o-p6XKtR8ipxWtiZr8HqhKCs= target=\\'_blank\\'>lockheedmartin.com</a>\"}', '{text: \"Lockheed Martin\", isFactual: false, fact: true, explanation: \"Incorrect. Its refuted by the following<br></br><a href=https://vertexaisearch.cloud.google.com/grounding-api-redirect/AQXblryvfaD6MqtcuMfoO3mUv4Wvv2DMrc-z5gX4skeGUQvb3MZ8aQ6asaDgzVEiYSAu8vml3X-_cZ3U38WrSvVHRbmqxLwR95Igcom-SbuC7jJ8FlqSPiHgAHGg-g0QCVQ7zh8uLhuh9Zbt98MCggok1MA= target=\\'_blank\\'>businessinsider.com</a><br></br><a href=https://vertexaisearch.cloud.google.com/grounding-api-redirect/AQXblryc8TvQ_9hDPX2KXdmUE9j_gfWdCIg-b8KYxwHOzab8VfRKwHC06TYCQXsEDS0is6Hn7HaF3M0VC0MFp05Gx9jZNfUWNSjc3SQKfAaE0XEPkg3F6eX6RvuNyQ3hJKq4L5lB5c5R4YP2PbftDZno8qNL_mMO1DBF3GxHP6izo8eHn1n4yoSbSLMS_kXNwOmVSZsXOpk= target=\\'_blank\\'>lockheedmartin.com</a><br></br><a href=https://vertexaisearch.cloud.google.com/grounding-api-redirect/AQXblryGQdPRei1hVLiHDL6T3NUA7WogwUR4q35h9p1smsgQHbMXwaLXgJYV_pupODwcsIANOqSI0rzzDaj5EFh_ivMRznsJ_f3u4-AtzVASqdGVs6b-bV5V9dsrlfA0Nc9Vp8YW19xsl0A-UuftbBxRYB2bX6sSeqI9lM7dyLM7rO1ET8h6MyKu4oyXVVtzsmr5yw2bVRXygCB1toe99ZYJBjT4jD7TPR05S90HBJIDMXTt9IVjqPir6UdkVJ-acOVjfM65V0b1NKjZ8IuzHvVhr-tFgVVHfcHw5Lb9QYwbCgggwqSop7r72bvsxAtF8bjvG9hzt40BcygJ1lQ5nda3xECosFkulM23xO9WgOMRZBDPs_VSVEr-J7D1BuNmvytynA== target=\\'_blank\\'>jeccomposites.com</a><br></br><a href=https://vertexaisearch.cloud.google.com/grounding-api-redirect/AQXblrx6Ai10QRUgRdFxgIkhW7IzgCyLSzEwfAskURutZwwKXVIgrlCMtgEMz5HDg7bW4j71D1b9m3ffC_ycb_UqnzMgLx442HShXPMCmiPBuXDZEkw0HP0jDRXeOOah6e2pF10V8n3XPuQ= target=\\'_blank\\'>wikipedia.org</a><br></br><a href=https://vertexaisearch.cloud.google.com/grounding-api-redirect/AQXblrwyGgH-tG-gg65CtUpE9XY8VYMOd4B83Oty7WOcGsdhwAKQ8Iqq3JdNt3xxjyrEL-_ZxFYOcMRGFUI7YCyb2n1jBGnaQRoxjiou79If1U7yi9oNVGundAKJv7zCwpf0qD3gHkZKOYQlpzv3jQ09YG-6TALw-TPGiExIDJWvUR7CNQ== target=\\'_blank\\'>macrotrends.net</a>\"}', '{text: \" announced Friday that it had developed a giant tactical rubber spider. “With the introduction of this state-of-the-art rubber spider and its highly realistic, blood-curdling fangs, the face of combat has changed forever,” said CEO \", isFactual: false, fact: false, explanation: \"Incorrect. Its refuted by the following<br></br><a href=https://vertexaisearch.cloud.google.com/grounding-api-redirect/AQXblrw97cTxqhf6kr6OYel8o21d9FZybVsOVlsb9eL5Io_MSdTUcyFlgMRT3Q06F8p6yDw2j-7UYnhYzmJaGpdr6fHfxvYjAvybjrqjW-DPCkJDeY-d5knAxXJjOS-Hk8PhCFXuZuEB3qU= target=\\'_blank\\'>wikipedia.org</a><br></br><a href=https://vertexaisearch.cloud.google.com/grounding-api-redirect/AQXblrwjE-f3YO5tfVErnGfuUpkBJVzYDeVv5HeGQ0knr9EFXvdfm6RuxQTnv9dAfkf-G-YpKqNPKPcIKc0fjiIcTZ7OxUStFM7rF1p_nckcengzcs2dnvl-htvlPEZesYtvpbb7r0d3jS9AxzpqzJJge0C60PivM1OIfw-RLFm4n1fVK201jp0VL6VRwaiKZ6hb0r5SbaA= target=\\'_blank\\'>lockheedmartin.com</a><br></br><a href=https://vertexaisearch.cloud.google.com/grounding-api-redirect/AQXblryGu2iomE9BLvCTc6MgRj5j3uMJmRWYEkgejqB5gkV4UGO8Gc1ipYtSEls5mf0RqOmWJTFJCCu6gyq-T-_sxLPVujJtbdJD_UGSNPt53I8bjLLCDLWvs4QuP4zWzZTzn6M9Qg== target=\\'_blank\\'>cfr.org</a><br></br><a href=https://vertexaisearch.cloud.google.com/grounding-api-redirect/AQXblryETlIo7o3iDpx2eu86--NRBWFbPQKP9kQsszYv-rFD8M1nmiK0T7GalHXwbOkbA_KozDGKl45fmtTZ3_d1MGMhj75jc3lCGQpHe8DKypLIANlCGsxJe4e9-Db_BYJfJN7Rc-94q3le-C-g-sK3zWZnJNBXYagy4VigTCe3WN5VW8CXzm8LI_Z8UnTvXZgqNpw-vLleg7LwmNERJnaZQ2NsD1GWWI8KetfMO9LuDuNo-tMn7nJVyC7qvp-NmYwqkaAE-ccuAlEqrw06-m2AbvXc7DbjFbhOlP1adxemfnEexdmubIOSW2dKtLLhZmeSrpbmZfuC8VsSFhb4K5EQz_pZU4tGZ27DJ4kAAOQ4nAYNVOUG0BBGPn5_XbkKW4xomQ== target=\\'_blank\\'>jeccomposites.com</a><br></br><a href=https://vertexaisearch.cloud.google.com/grounding-api-redirect/AQXblryRG206z8-QJfvsFIE_pnu0aMU6Y9TkHLhR2lSfeyJJ-VMy7CRMyJvQtGWH5uM4p2G7DGK-kK8FKp8o9PF5iUtmTxj_BMlutHyDt1xA-E0AUyZeQKa1V5U2IpfoShCetSOpvgsOszmfE6_Nph-NzAhOX4152K9vSJApN9Rd17SWifqlejMbcNYyDYVeDpdU0ZQeBQZ0HpsKGsNfuZWn7GPYmDCGDw4o-p6XKtR8ipxWtiZr8HqhKCs= target=\\'_blank\\'>lockheedmartin.com</a>\"}', '{text: \"James Taiclet\", isFactual: false, fact: true, explanation: \"Incorrect. Its refuted by the following<br></br><a href=https://vertexaisearch.cloud.google.com/grounding-api-redirect/AQXblrw97cTxqhf6kr6OYel8o21d9FZybVsOVlsb9eL5Io_MSdTUcyFlgMRT3Q06F8p6yDw2j-7UYnhYzmJaGpdr6fHfxvYjAvybjrqjW-DPCkJDeY-d5knAxXJjOS-Hk8PhCFXuZuEB3qU= target=\\'_blank\\'>wikipedia.org</a><br></br><a href=https://vertexaisearch.cloud.google.com/grounding-api-redirect/AQXblrwjE-f3YO5tfVErnGfuUpkBJVzYDeVv5HeGQ0knr9EFXvdfm6RuxQTnv9dAfkf-G-YpKqNPKPcIKc0fjiIcTZ7OxUStFM7rF1p_nckcengzcs2dnvl-htvlPEZesYtvpbb7r0d3jS9AxzpqzJJge0C60PivM1OIfw-RLFm4n1fVK201jp0VL6VRwaiKZ6hb0r5SbaA= target=\\'_blank\\'>lockheedmartin.com</a><br></br><a href=https://vertexaisearch.cloud.google.com/grounding-api-redirect/AQXblryGu2iomE9BLvCTc6MgRj5j3uMJmRWYEkgejqB5gkV4UGO8Gc1ipYtSEls5mf0RqOmWJTFJCCu6gyq-T-_sxLPVujJtbdJD_UGSNPt53I8bjLLCDLWvs4QuP4zWzZTzn6M9Qg== target=\\'_blank\\'>cfr.org</a><br></br><a href=https://vertexaisearch.cloud.google.com/grounding-api-redirect/AQXblryETlIo7o3iDpx2eu86--NRBWFbPQKP9kQsszYv-rFD8M1nmiK0T7GalHXwbOkbA_KozDGKl45fmtTZ3_d1MGMhj75jc3lCGQpHe8DKypLIANlCGsxJe4e9-Db_BYJfJN7Rc-94q3le-C-g-sK3zWZnJNBXYagy4VigTCe3WN5VW8CXzm8LI_Z8UnTvXZgqNpw-vLleg7LwmNERJnaZQ2NsD1GWWI8KetfMO9LuDuNo-tMn7nJVyC7qvp-NmYwqkaAE-ccuAlEqrw06-m2AbvXc7DbjFbhOlP1adxemfnEexdmubIOSW2dKtLLhZmeSrpbmZfuC8VsSFhb4K5EQz_pZU4tGZ27DJ4kAAOQ4nAYNVOUG0BBGPn5_XbkKW4xomQ== target=\\'_blank\\'>jeccomposites.com</a><br></br><a href=https://vertexaisearch.cloud.google.com/grounding-api-redirect/AQXblryRG206z8-QJfvsFIE_pnu0aMU6Y9TkHLhR2lSfeyJJ-VMy7CRMyJvQtGWH5uM4p2G7DGK-kK8FKp8o9PF5iUtmTxj_BMlutHyDt1xA-E0AUyZeQKa1V5U2IpfoShCetSOpvgsOszmfE6_Nph-NzAhOX4152K9vSJApN9Rd17SWifqlejMbcNYyDYVeDpdU0ZQeBQZ0HpsKGsNfuZWn7GPYmDCGDw4o-p6XKtR8ipxWtiZr8HqhKCs= target=\\'_blank\\'>lockheedmartin.com</a>\"}', '{text: \", explaining that the long-range, 250-foot-tall precision latex arachnid could be deployed anywhere in the world to scare the living daylights out of anyone in a 3,000-mile radius.\"\", isFactual: false, fact: false, explanation: \"Incorrect. Its refuted by the following<br></br><a href=https://vertexaisearch.cloud.google.com/grounding-api-redirect/AQXblrw97cTxqhf6kr6OYel8o21d9FZybVsOVlsb9eL5Io_MSdTUcyFlgMRT3Q06F8p6yDw2j-7UYnhYzmJaGpdr6fHfxvYjAvybjrqjW-DPCkJDeY-d5knAxXJjOS-Hk8PhCFXuZuEB3qU= target=\\'_blank\\'>wikipedia.org</a><br></br><a href=https://vertexaisearch.cloud.google.com/grounding-api-redirect/AQXblrwjE-f3YO5tfVErnGfuUpkBJVzYDeVv5HeGQ0knr9EFXvdfm6RuxQTnv9dAfkf-G-YpKqNPKPcIKc0fjiIcTZ7OxUStFM7rF1p_nckcengzcs2dnvl-htvlPEZesYtvpbb7r0d3jS9AxzpqzJJge0C60PivM1OIfw-RLFm4n1fVK201jp0VL6VRwaiKZ6hb0r5SbaA= target=\\'_blank\\'>lockheedmartin.com</a><br></br><a href=https://vertexaisearch.cloud.google.com/grounding-api-redirect/AQXblryGu2iomE9BLvCTc6MgRj5j3uMJmRWYEkgejqB5gkV4UGO8Gc1ipYtSEls5mf0RqOmWJTFJCCu6gyq-T-_sxLPVujJtbdJD_UGSNPt53I8bjLLCDLWvs4QuP4zWzZTzn6M9Qg== target=\\'_blank\\'>cfr.org</a><br></br><a href=https://vertexaisearch.cloud.google.com/grounding-api-redirect/AQXblryETlIo7o3iDpx2eu86--NRBWFbPQKP9kQsszYv-rFD8M1nmiK0T7GalHXwbOkbA_KozDGKl45fmtTZ3_d1MGMhj75jc3lCGQpHe8DKypLIANlCGsxJe4e9-Db_BYJfJN7Rc-94q3le-C-g-sK3zWZnJNBXYagy4VigTCe3WN5VW8CXzm8LI_Z8UnTvXZgqNpw-vLleg7LwmNERJnaZQ2NsD1GWWI8KetfMO9LuDuNo-tMn7nJVyC7qvp-NmYwqkaAE-ccuAlEqrw06-m2AbvXc7DbjFbhOlP1adxemfnEexdmubIOSW2dKtLLhZmeSrpbmZfuC8VsSFhb4K5EQz_pZU4tGZ27DJ4kAAOQ4nAYNVOUG0BBGPn5_XbkKW4xomQ== target=\\'_blank\\'>jeccomposites.com</a><br></br><a href=https://vertexaisearch.cloud.google.com/grounding-api-redirect/AQXblryRG206z8-QJfvsFIE_pnu0aMU6Y9TkHLhR2lSfeyJJ-VMy7CRMyJvQtGWH5uM4p2G7DGK-kK8FKp8o9PF5iUtmTxj_BMlutHyDt1xA-E0AUyZeQKa1V5U2IpfoShCetSOpvgsOszmfE6_Nph-NzAhOX4152K9vSJApN9Rd17SWifqlejMbcNYyDYVeDpdU0ZQeBQZ0HpsKGsNfuZWn7GPYmDCGDw4o-p6XKtR8ipxWtiZr8HqhKCs= target=\\'_blank\\'>lockheedmartin.com</a>\"}']\n"
     ]
    }
   ],
   "source": [
    "url = \"https://www.instagram.com/p/DGn8gbpNvd5/?igsh=YTlxd2NjM3NpZnJi\"\n",
    "res = Analyser.Validation(ScraperModels.GetInstaPost(url))\n",
    "print(res)"
   ]
  },
  {
   "cell_type": "markdown",
   "metadata": {},
   "source": [
    "# Chroma Initiaiser"
   ]
  },
  {
   "cell_type": "code",
   "execution_count": null,
   "metadata": {},
   "outputs": [],
   "source": [
    "# Get the Chroma DB client set up\n",
    "import chromadb\n",
    "import os\n",
    "\n",
    "import datetime\n",
    "\n",
    "data_path = os.getcwd()\n",
    "client = chromadb.PersistentClient(path=data_path)"
   ]
  },
  {
   "cell_type": "code",
   "execution_count": null,
   "metadata": {},
   "outputs": [],
   "source": [
    "# This is the database where all the articles pre-fetches data, relevant to today's news are stored\n",
    "\n",
    "def SetUpDB(): # This is to be run when the code is migrated to a server, to get the database onto the server\n",
    "    WritersCollection = client.create_collection(\n",
    "        name=\"Daily news\",\n",
    "        metadata={\n",
    "            \"description\": \"This stores the styles of successful publishing houses and individual writers. For each company/manager, the negative and positive sides of their writing will be stored separately. \",\n",
    "            \"created\": str(datetime.now()),\n",
    "            \"DataSource\": \"Biographies, essays and analysis of successful writers.\",\n",
    "        }\n",
    "    )\n",
    "\n",
    "    del WritersCollection\n",
    "\n",
    "    ProductCollection = client.create_collection(\n",
    "        name=\"ProductDB\",\n",
    "        metadata={\n",
    "            \"description\": \"This stores research papers on what makes a great piece of journalism. Each entry is one paper condensed into its essential points about what makes products great.\",\n",
    "            \"created\": str(datetime.now()),\n",
    "            \"DataSource\": \"Research papers about how journalism comes out. Material from courses on language and literature.\"\n",
    "        }\n",
    "    )\n",
    "\n",
    "    del ProductCollection\n",
    "\n",
    "    return \"2 Collections created successfully\"\n"
   ]
  }
 ],
 "metadata": {
  "kernelspec": {
   "display_name": "Python 3",
   "language": "python",
   "name": "python3"
  },
  "language_info": {
   "codemirror_mode": {
    "name": "ipython",
    "version": 3
   },
   "file_extension": ".py",
   "mimetype": "text/x-python",
   "name": "python",
   "nbconvert_exporter": "python",
   "pygments_lexer": "ipython3",
   "version": "3.11.4"
  }
 },
 "nbformat": 4,
 "nbformat_minor": 2
}
